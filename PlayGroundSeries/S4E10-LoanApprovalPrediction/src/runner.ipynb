{
 "cells": [
  {
   "cell_type": "code",
   "execution_count": 1,
   "id": "7a565453",
   "metadata": {
    "_cell_guid": "b1076dfc-b9ad-4769-8c92-a6c4dae69d19",
    "_uuid": "8f2839f25d086af736a60e9eeb907d3b93b6e0e5",
    "execution": {
     "iopub.execute_input": "2024-10-08T16:26:29.981048Z",
     "iopub.status.busy": "2024-10-08T16:26:29.980625Z",
     "iopub.status.idle": "2024-10-08T16:26:30.815080Z",
     "shell.execute_reply": "2024-10-08T16:26:30.814025Z"
    },
    "papermill": {
     "duration": 0.84238,
     "end_time": "2024-10-08T16:26:30.817669",
     "exception": false,
     "start_time": "2024-10-08T16:26:29.975289",
     "status": "completed"
    },
    "tags": []
   },
   "outputs": [
    {
     "name": "stdout",
     "output_type": "stream",
     "text": [
      "/kaggle/input/playground-series-s4e10/sample_submission.csv\n",
      "/kaggle/input/playground-series-s4e10/train.csv\n",
      "/kaggle/input/playground-series-s4e10/test.csv\n"
     ]
    }
   ],
   "source": [
    "# This Python 3 environment comes with many helpful analytics libraries installed\n",
    "# It is defined by the kaggle/python Docker image: https://github.com/kaggle/docker-python\n",
    "# For example, here's several helpful packages to load\n",
    "\n",
    "import numpy as np # linear algebra\n",
    "import pandas as pd # data processing, CSV file I/O (e.g. pd.read_csv)\n",
    "\n",
    "# Input data files are available in the read-only \"../input/\" directory\n",
    "# For example, running this (by clicking run or pressing Shift+Enter) will list all files under the input directory\n",
    "\n",
    "import os\n",
    "for dirname, _, filenames in os.walk('/kaggle/input'):\n",
    "    for filename in filenames:\n",
    "        print(os.path.join(dirname, filename))\n",
    "\n",
    "# You can write up to 20GB to the current directory (/kaggle/working/) that gets preserved as output when you create a version using \"Save & Run All\" \n",
    "# You can also write temporary files to /kaggle/temp/, but they won't be saved outside of the current session"
   ]
  },
  {
   "cell_type": "code",
   "execution_count": 2,
   "id": "20553aad",
   "metadata": {
    "execution": {
     "iopub.execute_input": "2024-10-08T16:26:30.827241Z",
     "iopub.status.busy": "2024-10-08T16:26:30.826281Z",
     "iopub.status.idle": "2024-10-08T16:26:32.499442Z",
     "shell.execute_reply": "2024-10-08T16:26:32.498449Z"
    },
    "papermill": {
     "duration": 1.680586,
     "end_time": "2024-10-08T16:26:32.502034",
     "exception": false,
     "start_time": "2024-10-08T16:26:30.821448",
     "status": "completed"
    },
    "tags": []
   },
   "outputs": [],
   "source": [
    "#importing packages\n",
    "\n",
    "import matplotlib.pyplot as plt\n",
    "import seaborn as sns\n",
    "import numpy as np"
   ]
  },
  {
   "cell_type": "code",
   "execution_count": 3,
   "id": "f96878ed",
   "metadata": {
    "execution": {
     "iopub.execute_input": "2024-10-08T16:26:32.511078Z",
     "iopub.status.busy": "2024-10-08T16:26:32.510542Z",
     "iopub.status.idle": "2024-10-08T16:26:32.738392Z",
     "shell.execute_reply": "2024-10-08T16:26:32.737480Z"
    },
    "papermill": {
     "duration": 0.234964,
     "end_time": "2024-10-08T16:26:32.740836",
     "exception": false,
     "start_time": "2024-10-08T16:26:32.505872",
     "status": "completed"
    },
    "tags": []
   },
   "outputs": [],
   "source": [
    "testData = pd.read_csv(\"/kaggle/input/playground-series-s4e10/test.csv\", index_col = 0)\n",
    "trainData = pd.read_csv(\"/kaggle/input/playground-series-s4e10/train.csv\", index_col = 0)"
   ]
  },
  {
   "cell_type": "markdown",
   "id": "3eaacca2",
   "metadata": {
    "papermill": {
     "duration": 0.003152,
     "end_time": "2024-10-08T16:26:32.747880",
     "exception": false,
     "start_time": "2024-10-08T16:26:32.744728",
     "status": "completed"
    },
    "tags": []
   },
   "source": [
    "<h1>Data exploration and engineering</h1>"
   ]
  },
  {
   "cell_type": "code",
   "execution_count": 4,
   "id": "73174c86",
   "metadata": {
    "execution": {
     "iopub.execute_input": "2024-10-08T16:26:32.756286Z",
     "iopub.status.busy": "2024-10-08T16:26:32.755863Z",
     "iopub.status.idle": "2024-10-08T16:26:32.761889Z",
     "shell.execute_reply": "2024-10-08T16:26:32.760664Z"
    },
    "papermill": {
     "duration": 0.01294,
     "end_time": "2024-10-08T16:26:32.764247",
     "exception": false,
     "start_time": "2024-10-08T16:26:32.751307",
     "status": "completed"
    },
    "tags": []
   },
   "outputs": [
    {
     "name": "stdout",
     "output_type": "stream",
     "text": [
      "Train data columns: Index(['person_age', 'person_income', 'person_home_ownership',\n",
      "       'person_emp_length', 'loan_intent', 'loan_grade', 'loan_amnt',\n",
      "       'loan_int_rate', 'loan_percent_income', 'cb_person_default_on_file',\n",
      "       'cb_person_cred_hist_length', 'loan_status'],\n",
      "      dtype='object')\n"
     ]
    }
   ],
   "source": [
    "print(f\"Train data columns: {trainData.columns}\")"
   ]
  },
  {
   "cell_type": "code",
   "execution_count": 5,
   "id": "c3c63213",
   "metadata": {
    "execution": {
     "iopub.execute_input": "2024-10-08T16:26:32.773249Z",
     "iopub.status.busy": "2024-10-08T16:26:32.772335Z",
     "iopub.status.idle": "2024-10-08T16:26:32.777941Z",
     "shell.execute_reply": "2024-10-08T16:26:32.776758Z"
    },
    "papermill": {
     "duration": 0.01239,
     "end_time": "2024-10-08T16:26:32.780096",
     "exception": false,
     "start_time": "2024-10-08T16:26:32.767706",
     "status": "completed"
    },
    "tags": []
   },
   "outputs": [],
   "source": [
    "#Categorical columns\n",
    "catCols = ['person_home_ownership', \"loan_intent\", 'loan_grade', 'cb_person_default_on_file']\n",
    "\n",
    "#numerical columns\n",
    "numCols = [\"person_age\",\"person_income\",\"person_emp_length\",\"loan_amnt\",\"loan_int_rate\",\"loan_percent_income\",\"cb_person_cred_hist_length\"]\n",
    "\n",
    "target =\"loan_status\""
   ]
  },
  {
   "cell_type": "code",
   "execution_count": 6,
   "id": "63b331b3",
   "metadata": {
    "execution": {
     "iopub.execute_input": "2024-10-08T16:26:32.788861Z",
     "iopub.status.busy": "2024-10-08T16:26:32.788475Z",
     "iopub.status.idle": "2024-10-08T16:26:32.814669Z",
     "shell.execute_reply": "2024-10-08T16:26:32.813663Z"
    },
    "papermill": {
     "duration": 0.033513,
     "end_time": "2024-10-08T16:26:32.817306",
     "exception": false,
     "start_time": "2024-10-08T16:26:32.783793",
     "status": "completed"
    },
    "tags": []
   },
   "outputs": [
    {
     "name": "stdout",
     "output_type": "stream",
     "text": [
      "Unique values in : person_home_ownership\n",
      "RENT        30594\n",
      "MORTGAGE    24824\n",
      "OWN          3138\n",
      "OTHER          89\n",
      "Name: count, dtype: int64 \n",
      "\n",
      "\n",
      "Unique values in : loan_intent\n",
      "EDUCATION            12271\n",
      "MEDICAL              10934\n",
      "PERSONAL             10016\n",
      "VENTURE              10011\n",
      "DEBTCONSOLIDATION     9133\n",
      "HOMEIMPROVEMENT       6280\n",
      "Name: count, dtype: int64 \n",
      "\n",
      "\n",
      "Unique values in : loan_grade\n",
      "A    20984\n",
      "B    20400\n",
      "C    11036\n",
      "D     5034\n",
      "E     1009\n",
      "F      149\n",
      "G       33\n",
      "Name: count, dtype: int64 \n",
      "\n",
      "\n",
      "Unique values in : cb_person_default_on_file\n",
      "N    49943\n",
      "Y     8702\n",
      "Name: count, dtype: int64 \n",
      "\n",
      "\n"
     ]
    }
   ],
   "source": [
    "for i in catCols:\n",
    "    print(f\"Unique values in : {trainData[i].value_counts()} \\n\\n\")"
   ]
  },
  {
   "cell_type": "code",
   "execution_count": 7,
   "id": "8de0ad8f",
   "metadata": {
    "execution": {
     "iopub.execute_input": "2024-10-08T16:26:32.826120Z",
     "iopub.status.busy": "2024-10-08T16:26:32.825717Z",
     "iopub.status.idle": "2024-10-08T16:26:33.680983Z",
     "shell.execute_reply": "2024-10-08T16:26:33.679837Z"
    },
    "papermill": {
     "duration": 0.86227,
     "end_time": "2024-10-08T16:26:33.683289",
     "exception": false,
     "start_time": "2024-10-08T16:26:32.821019",
     "status": "completed"
    },
    "tags": []
   },
   "outputs": [
    {
     "name": "stderr",
     "output_type": "stream",
     "text": [
      "/opt/conda/lib/python3.10/site-packages/seaborn/_oldcore.py:1119: FutureWarning: use_inf_as_na option is deprecated and will be removed in a future version. Convert inf values to NaN before operating instead.\n",
      "  with pd.option_context('mode.use_inf_as_na', True):\n",
      "/opt/conda/lib/python3.10/site-packages/seaborn/_oldcore.py:1119: FutureWarning: use_inf_as_na option is deprecated and will be removed in a future version. Convert inf values to NaN before operating instead.\n",
      "  with pd.option_context('mode.use_inf_as_na', True):\n"
     ]
    },
    {
     "data": {
      "text/plain": [
       "<Axes: xlabel='loan_grade', ylabel='loan_status'>"
      ]
     },
     "execution_count": 7,
     "metadata": {},
     "output_type": "execute_result"
    },
    {
     "data": {
      "image/png": "[encoded data removed]",
      "text/plain": [
       "<Figure size 640x480 with 1 Axes>"
      ]
     },
     "metadata": {},
     "output_type": "display_data"
    }
   ],
   "source": [
    "sns.lineplot(trainData, x=trainData.loan_grade, y = trainData.loan_status)"
   ]
  },
  {
   "cell_type": "code",
   "execution_count": 8,
   "id": "a66525f5",
   "metadata": {
    "execution": {
     "iopub.execute_input": "2024-10-08T16:26:33.693779Z",
     "iopub.status.busy": "2024-10-08T16:26:33.692859Z",
     "iopub.status.idle": "2024-10-08T16:26:34.003443Z",
     "shell.execute_reply": "2024-10-08T16:26:34.002368Z"
    },
    "papermill": {
     "duration": 0.318248,
     "end_time": "2024-10-08T16:26:34.005761",
     "exception": false,
     "start_time": "2024-10-08T16:26:33.687513",
     "status": "completed"
    },
    "tags": []
   },
   "outputs": [
    {
     "name": "stderr",
     "output_type": "stream",
     "text": [
      "/opt/conda/lib/python3.10/site-packages/seaborn/categorical.py:1794: FutureWarning: use_inf_as_na option is deprecated and will be removed in a future version. Convert inf values to NaN before operating instead.\n",
      "  with pd.option_context('mode.use_inf_as_na', True):\n",
      "/opt/conda/lib/python3.10/site-packages/seaborn/categorical.py:1794: FutureWarning: use_inf_as_na option is deprecated and will be removed in a future version. Convert inf values to NaN before operating instead.\n",
      "  with pd.option_context('mode.use_inf_as_na', True):\n",
      "/opt/conda/lib/python3.10/site-packages/seaborn/categorical.py:1794: FutureWarning: use_inf_as_na option is deprecated and will be removed in a future version. Convert inf values to NaN before operating instead.\n",
      "  with pd.option_context('mode.use_inf_as_na', True):\n",
      "/opt/conda/lib/python3.10/site-packages/seaborn/categorical.py:1794: FutureWarning: use_inf_as_na option is deprecated and will be removed in a future version. Convert inf values to NaN before operating instead.\n",
      "  with pd.option_context('mode.use_inf_as_na', True):\n",
      "/opt/conda/lib/python3.10/site-packages/seaborn/categorical.py:1794: FutureWarning: use_inf_as_na option is deprecated and will be removed in a future version. Convert inf values to NaN before operating instead.\n",
      "  with pd.option_context('mode.use_inf_as_na', True):\n",
      "/opt/conda/lib/python3.10/site-packages/seaborn/categorical.py:1794: FutureWarning: use_inf_as_na option is deprecated and will be removed in a future version. Convert inf values to NaN before operating instead.\n",
      "  with pd.option_context('mode.use_inf_as_na', True):\n",
      "/opt/conda/lib/python3.10/site-packages/seaborn/categorical.py:1794: FutureWarning: use_inf_as_na option is deprecated and will be removed in a future version. Convert inf values to NaN before operating instead.\n",
      "  with pd.option_context('mode.use_inf_as_na', True):\n"
     ]
    },
    {
     "data": {
      "text/plain": [
       "<Axes: xlabel='loan_grade', ylabel='loan_status'>"
      ]
     },
     "execution_count": 8,
     "metadata": {},
     "output_type": "execute_result"
    },
    {
     "data": {
      "image/png": "[encoded data removed]",
      "text/plain": [
       "<Figure size 640x480 with 1 Axes>"
      ]
     },
     "metadata": {},
     "output_type": "display_data"
    }
   ],
   "source": [
    "sns.boxenplot(trainData, x= trainData.loan_grade, y= trainData.loan_status)"
   ]
  },
  {
   "cell_type": "code",
   "execution_count": 9,
   "id": "30ecfab2",
   "metadata": {
    "execution": {
     "iopub.execute_input": "2024-10-08T16:26:34.017475Z",
     "iopub.status.busy": "2024-10-08T16:26:34.016509Z",
     "iopub.status.idle": "2024-10-08T16:26:34.021163Z",
     "shell.execute_reply": "2024-10-08T16:26:34.020139Z"
    },
    "papermill": {
     "duration": 0.012846,
     "end_time": "2024-10-08T16:26:34.023391",
     "exception": false,
     "start_time": "2024-10-08T16:26:34.010545",
     "status": "completed"
    },
    "tags": []
   },
   "outputs": [],
   "source": [
    "#Next step : Orginal encoding of loan_grade"
   ]
  },
  {
   "cell_type": "code",
   "execution_count": null,
   "id": "ff3190f1",
   "metadata": {
    "papermill": {
     "duration": 0.004481,
     "end_time": "2024-10-08T16:26:34.032779",
     "exception": false,
     "start_time": "2024-10-08T16:26:34.028298",
     "status": "completed"
    },
    "tags": []
   },
   "outputs": [],
   "source": []
  }
 ],
 "metadata": {
  "kaggle": {
   "accelerator": "none",
   "dataSources": [
    {
     "databundleVersionId": 9709193,
     "sourceId": 84894,
     "sourceType": "competition"
    }
   ],
   "dockerImageVersionId": 30786,
   "isGpuEnabled": false,
   "isInternetEnabled": true,
   "language": "python",
   "sourceType": "notebook"
  },
  "kernelspec": {
   "display_name": "Python 3",
   "language": "python",
   "name": "python3"
  },
  "language_info": {
   "codemirror_mode": {
    "name": "ipython",
    "version": 3
   },
   "file_extension": ".py",
   "mimetype": "text/x-python",
   "name": "python",
   "nbconvert_exporter": "python",
   "pygments_lexer": "ipython3",
   "version": "3.10.14"
  },
  "papermill": {
   "default_parameters": {},
   "duration": 7.371267,
   "end_time": "2024-10-08T16:26:34.659675",
   "environment_variables": {},
   "exception": null,
   "input_path": "__notebook__.ipynb",
   "output_path": "__notebook__.ipynb",
   "parameters": {},
   "start_time": "2024-10-08T16:26:27.288408",
   "version": "2.6.0"
  }
 },
 "nbformat": 4,
 "nbformat_minor": 5
}
